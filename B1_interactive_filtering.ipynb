{
 "cells": [
  {
   "cell_type": "markdown",
   "metadata": {
    "kernel": "SoS"
   },
   "source": [
    "# B1 interactive filtering"
   ]
  },
  {
   "cell_type": "code",
   "execution_count": null,
   "metadata": {
    "kernel": "Octave"
   },
   "outputs": [],
   "source": [
    "cd qMRLab\n",
    "startup"
   ]
  },
  {
   "cell_type": "code",
   "execution_count": null,
   "metadata": {
    "kernel": "Octave"
   },
   "outputs": [],
   "source": [
    "cmd = ['curl -L -o b1_map.zip https://osf.io/mw3sq/download/'];\n",
    "[STATUS,MESSAGE] = unix(cmd);\n",
    "unzip('b1_map.zip');"
   ]
  },
  {
   "cell_type": "code",
   "execution_count": null,
   "metadata": {
    "kernel": "Octave"
   },
   "outputs": [],
   "source": [
    "clear all\n",
    "\n",
    "Model = b1_dam;\n",
    "\n",
    "% Format data structure so that they may be fit by the model\n",
    "data = struct();\n",
    "data.SFalpha = double(load_nii_data('SFalpha.nii.gz')); %load data\n",
    "data.SF2alpha  = double(load_nii_data('SF2alpha.nii.gz'));\n",
    "\n",
    "Model.options.Smoothingfilter_Type = 'spline';\n",
    "Model.options.Smoothingfilter_order = 2;\n",
    "FitResults_spline = FitData(data,Model);"
   ]
  },
  {
   "cell_type": "code",
   "execution_count": null,
   "metadata": {
    "kernel": "Octave"
   },
   "outputs": [],
   "source": [
    "B1_raw = FitResults_spline.B1map_raw;\n",
    "B1_filtered = FitResults_spline.B1map_filtered;"
   ]
  },
  {
   "cell_type": "code",
   "execution_count": null,
   "metadata": {
    "kernel": "SoS"
   },
   "outputs": [],
   "source": [
    "%get B1_raw --from Octave \n",
    "%get B1_filtered --from Octave \n",
    "%matplotlib inline\n",
    "\n",
    "import matplotlib.pyplot as mpl\n",
    "from matplotlib import cm\n",
    "import numpy as np\n",
    "\n",
    "mpl.imshow(np.concatenate((B1_raw, B1_filtered), axis=1))\n",
    "mpl.clim(0.9,1.05)\n",
    "mpl.colorbar()\n",
    "mpl.set_cmap('jet')"
   ]
  }
 ],
 "metadata": {
  "kernelspec": {
   "display_name": "SoS",
   "language": "sos",
   "name": "sos"
  },
  "language_info": {
   "codemirror_mode": "sos",
   "file_extension": ".sos",
   "mimetype": "text/x-sos",
   "name": "sos",
   "nbconvert_exporter": "sos_notebook.converter.SoS_Exporter",
   "pygments_lexer": "sos"
  },
  "sos": {
   "kernels": [
    [
     "Octave",
     "octave",
     "Octave",
     "#dff8fb"
    ],
    [
     "SoS",
     "sos",
     "",
     ""
    ]
   ],
   "panel": {
    "displayed": true,
    "height": 0,
    "style": "side"
   },
   "version": "0.17.2"
  }
 },
 "nbformat": 4,
 "nbformat_minor": 2
}
